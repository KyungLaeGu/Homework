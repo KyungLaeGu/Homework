{
  "nbformat": 4,
  "nbformat_minor": 0,
  "metadata": {
    "colab": {
      "name": "Untitled2.ipynb",
      "provenance": [],
      "include_colab_link": true
    },
    "kernelspec": {
      "name": "python3",
      "display_name": "Python 3"
    }
  },
  "cells": [
    {
      "cell_type": "markdown",
      "metadata": {
        "id": "view-in-github",
        "colab_type": "text"
      },
      "source": [
        "<a href=\"https://colab.research.google.com/github/KyungLaeGu/Homework/blob/master/%EC%97%B4%EC%9C%A0%EC%B2%B4%EA%B3%B5%ED%95%99%EC%8B%A4%ED%97%98-2015009870-HW03.ipynb\" target=\"_parent\"><img src=\"https://colab.research.google.com/assets/colab-badge.svg\" alt=\"Open In Colab\"/></a>"
      ]
    },
    {
      "cell_type": "code",
      "metadata": {
        "id": "qvXCVdseR93X",
        "colab_type": "code",
        "colab": {
          "base_uri": "https://localhost:8080/",
          "height": 53
        },
        "outputId": "87a04e89-7683-4ada-cce5-e5a3c753b13d"
      },
      "source": [
        "import numpy as np\n",
        "def function(a):\n",
        " gugudan = np.arange(1,10)\n",
        " print(a*gugudan)\n",
        "\n",
        "\n",
        "a = int(input())\n",
        "\n",
        "\n",
        "\n",
        "mult = function(a)"
      ],
      "execution_count": 7,
      "outputs": [
        {
          "output_type": "stream",
          "text": [
            "7\n",
            "[ 7 14 21 28 35 42 49 56 63]\n"
          ],
          "name": "stdout"
        }
      ]
    }
  ]
}